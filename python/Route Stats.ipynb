{
 "metadata": {
  "name": "Route Stats"
 },
 "nbformat": 3,
 "nbformat_minor": 0,
 "worksheets": [
  {
   "cells": [
    {
     "cell_type": "code",
     "collapsed": false,
     "input": [
      "import sys\n",
      "import pandas\n",
      "import numpy \n",
      "import os.path\n",
      "sys.path.append(\"..\")    \n",
      "\n",
      "# New data frame\n",
      "data = pandas.read_csv('data/sf/sf-passenger-count.csv', header=0)"
     ],
     "language": "python",
     "metadata": {},
     "outputs": [
      {
       "output_type": "pyout",
       "prompt_number": 164,
       "text": [
        "ROUTE\n",
        "1         731\n",
        "2        1922\n",
        "3           1\n",
        "5        4160\n",
        "6        3028\n",
        "9        4260\n",
        "10       1393\n",
        "12        933\n",
        "14       6077\n",
        "18       1153\n",
        "Name: ON, dtype: float64"
       ]
      }
     ],
     "prompt_number": 164
    },
    {
     "cell_type": "code",
     "collapsed": false,
     "input": [
      "passengers_on = data.drop(['DIR', 'STOP_ID', 'STOP_SEQ', 'TIMESTOP', 'OFF', 'DATE', 'LATITUDE', 'LONGITUDE'], axis=1)\n",
      "\n",
      "passengers_on = passengers_on[data.DATE == \"10/1/12\"]\n",
      "\n",
      "totals = passengers_on.groupby('ROUTE').ON.sum();\n",
      "totals.head(10)"
     ],
     "language": "python",
     "metadata": {},
     "outputs": [
      {
       "output_type": "pyout",
       "prompt_number": 166,
       "text": [
        "ROUTE\n",
        "1         731\n",
        "2        1922\n",
        "3           1\n",
        "5        4160\n",
        "6        3028\n",
        "9        4260\n",
        "10       1393\n",
        "12        933\n",
        "14       6077\n",
        "18       1153\n",
        "Name: ON, dtype: float64"
       ]
      }
     ],
     "prompt_number": 166
    },
    {
     "cell_type": "code",
     "collapsed": false,
     "input": [],
     "language": "python",
     "metadata": {},
     "outputs": []
    }
   ],
   "metadata": {}
  }
 ]
}